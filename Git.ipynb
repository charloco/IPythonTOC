{
 "metadata": {
  "name": "",
  "signature": "sha256:3e18fae0105aad924cecd32d6fc5f0d8b4b9a475bc678726c03305a09fe2a4d2"
 },
 "nbformat": 3,
 "nbformat_minor": 0,
 "worksheets": [
  {
   "cells": [
    {
     "cell_type": "code",
     "collapsed": false,
     "input": [
      "pwd"
     ],
     "language": "python",
     "metadata": {},
     "outputs": [
      {
       "metadata": {},
       "output_type": "pyout",
       "prompt_number": 1,
       "text": [
        "u'/home/bren/Development/IPythonUtilities/TOC'"
       ]
      }
     ],
     "prompt_number": 1
    },
    {
     "cell_type": "code",
     "collapsed": false,
     "input": [
      "from IPythonTOC import IPythonTOC\n",
      "\n",
      "toc = IPythonTOC()\n"
     ],
     "language": "python",
     "metadata": {},
     "outputs": [],
     "prompt_number": 31
    },
    {
     "cell_type": "code",
     "collapsed": false,
     "input": [
      "toc.genTOCEntry()"
     ],
     "language": "python",
     "metadata": {},
     "outputs": [
      {
       "metadata": {},
       "output_type": "pyout",
       "prompt_number": 52,
       "text": [
        "'[Stage and Commit Changes](#Stage_and_Commit_Changes)'"
       ]
      }
     ],
     "prompt_number": 52
    },
    {
     "cell_type": "markdown",
     "metadata": {},
     "source": [
      "A notebook to document the creation of a new repository. In a comment in the \"Model Thinking\" Coursera class, someone asked for an example of a notebook and \"production\" code. My response will be to point them to this repository that has a README, a python class for creating notebook TOC entries, test code for the same, and a notebook that uses the class.\n",
      "\n",
      "#TOC\n",
      "\n",
      "[Initialize Local Git Project](#Initialize_Local_Git_Project)\n",
      "\n",
      "[Load Local Repository](#Load_Local_Repository)\n",
      "\n",
      "[Load Remote Repository](#Load_Remote_Repository)\n",
      "\n",
      "[Stage and Commit Changes](#Stage_and_Commit_Changes)\n",
      "\n"
     ]
    },
    {
     "cell_type": "code",
     "collapsed": false,
     "input": [
      "import tempfile"
     ],
     "language": "python",
     "metadata": {},
     "outputs": [],
     "prompt_number": 35
    },
    {
     "cell_type": "markdown",
     "metadata": {},
     "source": [
      "<a id='Initialize_Local_Git_Project'></a>\n",
      "###Initialize Local Git Project"
     ]
    },
    {
     "cell_type": "code",
     "collapsed": false,
     "input": [
      "%%script bash\n",
      "rm -rf .git\n",
      "git init\n",
      "git config --global user.name \"Bren Letson\"\n",
      "git config --global user.email bren@ru-ready-now.com\n",
      "git remote add pb https://github.com/upandacross/IPythonTOC.git\n",
      "    "
     ],
     "language": "python",
     "metadata": {},
     "outputs": [
      {
       "output_type": "stream",
       "stream": "stdout",
       "text": [
        "Initialized empty Git repository in /home/bren/Development/IPythonUtilities/TOC/.git/\n"
       ]
      }
     ],
     "prompt_number": 3
    },
    {
     "cell_type": "code",
     "collapsed": false,
     "input": [
      "!ls -R"
     ],
     "language": "python",
     "metadata": {},
     "outputs": [
      {
       "output_type": "stream",
       "stream": "stdout",
       "text": [
        ".:\r\n",
        "build  Git.ipynb     IPythonTOC.egg-info  MANIFEST.in  test_IPythonTOC.py\r\n",
        "dist   __init__.py   IPythonTOC.py\t  __pycache__  TOC.ipynb\r\n",
        "doc    __init__.pyc  IPythonTOC.pyc\t  setup.py\r\n",
        "\r\n",
        "./build:\r\n",
        "bdist.linux-x86_64  lib.linux-x86_64-2.7\r\n",
        "\r\n",
        "./build/bdist.linux-x86_64:\r\n",
        "\r\n",
        "./build/lib.linux-x86_64-2.7:\r\n",
        "IPythonTOC.py\r\n",
        "\r\n",
        "./dist:\r\n",
        "IPythonTOC-0.6.1-py2.7.egg  IPythonTOC-0.6.1.tar.gz\r\n",
        "\r\n",
        "./doc:\r\n",
        "README.html  README.rst\r\n",
        "\r\n",
        "./IPythonTOC.egg-info:\r\n",
        "dependency_links.txt  PKG-INFO\tSOURCES.txt  top_level.txt\r\n",
        "\r\n",
        "./__pycache__:\r\n",
        "test_IPythonTOC.cpython-27-PYTEST.pyc\r\n"
       ]
      }
     ],
     "prompt_number": 6
    },
    {
     "cell_type": "markdown",
     "metadata": {},
     "source": [
      "<a id='Load_Local_Repository'></a>\n",
      "###Load Local Repository"
     ]
    },
    {
     "cell_type": "code",
     "collapsed": false,
     "input": [
      "%%script bash\n",
      "git add IPythonTOC.py setup.py test_IPythonTOC.py TOC.ipynb dist/IPythonTOC-0.6.1.tar.gz doc/README.html  doc/README.rst\n"
     ],
     "language": "python",
     "metadata": {},
     "outputs": [],
     "prompt_number": 7
    },
    {
     "cell_type": "code",
     "collapsed": false,
     "input": [
      "!git status"
     ],
     "language": "python",
     "metadata": {},
     "outputs": [
      {
       "output_type": "stream",
       "stream": "stdout",
       "text": [
        "On branch master\r\n",
        "\r\n",
        "Initial commit\r\n",
        "\r\n",
        "Changes to be committed:\r\n",
        "  (use \"git rm --cached <file>...\" to unstage)\r\n",
        "\r\n",
        "\t\u001b[32mnew file:   IPythonTOC.py\u001b[m\r\n",
        "\t\u001b[32mnew file:   TOC.ipynb\u001b[m\r\n",
        "\t\u001b[32mnew file:   dist/IPythonTOC-0.6.1.tar.gz\u001b[m\r\n",
        "\t\u001b[32mnew file:   doc/README.html\u001b[m\r\n",
        "\t\u001b[32mnew file:   doc/README.rst\u001b[m\r\n",
        "\t\u001b[32mnew file:   setup.py\u001b[m\r\n",
        "\t\u001b[32mnew file:   test_IPythonTOC.py\u001b[m\r\n",
        "\r\n",
        "Untracked files:\r\n",
        "  (use \"git add <file>...\" to include in what will be committed)\r\n",
        "\r\n",
        "\t\u001b[31m.ipynb_checkpoints/\u001b[m\r\n",
        "\t\u001b[31mGit.ipynb\u001b[m\r\n",
        "\t\u001b[31mIPythonTOC.egg-info/\u001b[m\r\n",
        "\t\u001b[31mIPythonTOC.pyc\u001b[m\r\n",
        "\t\u001b[31mMANIFEST.in\u001b[m\r\n",
        "\t\u001b[31m__init__.py\u001b[m\r\n",
        "\t\u001b[31m__init__.pyc\u001b[m\r\n",
        "\t\u001b[31m__pycache__/\u001b[m\r\n",
        "\t\u001b[31mbuild/\u001b[m\r\n",
        "\t\u001b[31mdist/IPythonTOC-0.6.1-py2.7.egg\u001b[m\r\n",
        "\r\n"
       ]
      }
     ],
     "prompt_number": 8
    },
    {
     "cell_type": "code",
     "collapsed": false,
     "input": [
      "!git commit -m 'initial commit'"
     ],
     "language": "python",
     "metadata": {},
     "outputs": [
      {
       "output_type": "stream",
       "stream": "stdout",
       "text": [
        "[master (root-commit) 250a4a8] initial commit\r\n",
        " 7 files changed, 846 insertions(+)\r\n",
        " create mode 100644 IPythonTOC.py\r\n",
        " create mode 100644 TOC.ipynb\r\n",
        " create mode 100644 dist/IPythonTOC-0.6.1.tar.gz\r\n",
        " create mode 100644 doc/README.html\r\n",
        " create mode 100644 doc/README.rst\r\n",
        " create mode 100755 setup.py\r\n",
        " create mode 100644 test_IPythonTOC.py\r\n"
       ]
      }
     ],
     "prompt_number": 10
    },
    {
     "cell_type": "code",
     "collapsed": false,
     "input": [
      "!git status"
     ],
     "language": "python",
     "metadata": {},
     "outputs": [
      {
       "output_type": "stream",
       "stream": "stdout",
       "text": [
        "On branch master\r\n",
        "Untracked files:\r\n",
        "  (use \"git add <file>...\" to include in what will be committed)\r\n",
        "\r\n",
        "\t\u001b[31m.ipynb_checkpoints/\u001b[m\r\n",
        "\t\u001b[31mGit.ipynb\u001b[m\r\n",
        "\t\u001b[31mIPythonTOC.egg-info/\u001b[m\r\n",
        "\t\u001b[31mIPythonTOC.pyc\u001b[m\r\n",
        "\t\u001b[31mMANIFEST.in\u001b[m\r\n",
        "\t\u001b[31m__init__.py\u001b[m\r\n",
        "\t\u001b[31m__init__.pyc\u001b[m\r\n",
        "\t\u001b[31m__pycache__/\u001b[m\r\n",
        "\t\u001b[31mbuild/\u001b[m\r\n",
        "\t\u001b[31mdist/IPythonTOC-0.6.1-py2.7.egg\u001b[m\r\n",
        "\r\n",
        "nothing added to commit but untracked files present (use \"git add\" to track)\r\n"
       ]
      }
     ],
     "prompt_number": 11
    },
    {
     "cell_type": "code",
     "collapsed": false,
     "input": [
      "tf = 'TOCmd.txt'\n",
      "with open(tf, 'w') as outfile:\n",
      "    outfile.write(toc.genTOCMarkdownCell('Load Remote Repository'))\n",
      "    \n",
      "%load 'TOCmd.txt'\n"
     ],
     "language": "python",
     "metadata": {},
     "outputs": [],
     "prompt_number": 46
    },
    {
     "cell_type": "markdown",
     "metadata": {},
     "source": [
      "<a id='Load_Remote_Repository'></a>\n",
      "###Load Remote Repository"
     ]
    },
    {
     "cell_type": "code",
     "collapsed": false,
     "input": [
      "!git remote add origin https://github.com/upandacross/IPythonTOC.git\n"
     ],
     "language": "python",
     "metadata": {},
     "outputs": []
    },
    {
     "cell_type": "code",
     "collapsed": false,
     "input": [
      "!git remote -v"
     ],
     "language": "python",
     "metadata": {},
     "outputs": [
      {
       "output_type": "stream",
       "stream": "stdout",
       "text": [
        "pb\thttps://github.com/upandacross/IPythonTOC.git (fetch)\r\n",
        "pb\thttps://github.com/upandacross/IPythonTOC.git (push)\r\n"
       ]
      }
     ],
     "prompt_number": 5
    },
    {
     "cell_type": "code",
     "collapsed": false,
     "input": [
      "import base64\n",
      "import pexpect\n",
      "import sys\n"
     ],
     "language": "python",
     "metadata": {},
     "outputs": [],
     "prompt_number": 27
    },
    {
     "cell_type": "code",
     "collapsed": false,
     "input": [
      "sys.stdout.write('enter password: ')"
     ],
     "language": "python",
     "metadata": {},
     "outputs": [
      {
       "output_type": "stream",
       "stream": "stdout",
       "text": [
        "enter password: "
       ]
      }
     ],
     "prompt_number": 18
    },
    {
     "cell_type": "code",
     "collapsed": false,
     "input": [
      "child = pexpect.spawn('python upw.py', timeout=5)\n",
      "child.expect('.*sername:')\n",
      "child.sendline(base64.b64decode('dXBhbmRhY3Jvc3M='))\n",
      "child.expect('.*assword:')\n",
      "child.sendline(base64.b64decode('OGpyQ0heVVBJVlpPaGdPd0B5M056MDNE'))\n",
      "print child.after, child.readline()\n"
     ],
     "language": "python",
     "metadata": {},
     "outputs": [
      {
       "output_type": "stream",
       "stream": "stdout",
       "text": [
        " upandacross\r\n",
        "Password:  8jrCH^UPIVZOhgOw@y3Nz03D\r\n",
        "\n"
       ]
      }
     ],
     "prompt_number": 29
    },
    {
     "cell_type": "markdown",
     "metadata": {},
     "source": [
      "Unfortunately, is was not possible for me to automate this push now because the local and remote were not in sync. Also, the push puts you into a vi session so you can create a push description. Nonetheless, the spawn is correct but, for now, I'll do it from a shell"
     ]
    },
    {
     "cell_type": "code",
     "collapsed": false,
     "input": [
      "child = pexpect.spawn('git push https://github.com/upandacross/IPythonTOC.git master', timeout=10)\n",
      "child.expect('.*https://github.com\\':')\n",
      "child.sendline(base64.b64decode('dXBhbmRhY3Jvc3M='))\n",
      "child.expect('.*https://upandacross@github.com\\':')\n",
      "child.sendline(base64.b64decode('OGpyQ0heVVBJVlpPaGdPd0B5M056MDNE'))\n",
      "print child.after, child.readline()\n"
     ],
     "language": "python",
     "metadata": {},
     "outputs": [
      {
       "output_type": "stream",
       "stream": "stdout",
       "text": [
        " upandacross\r\n",
        "Password for 'https://upandacross@github.com':  \r\n",
        "\n"
       ]
      }
     ],
     "prompt_number": 30
    },
    {
     "cell_type": "code",
     "collapsed": false,
     "input": [
      "with open('TOCEntry.txt', 'w') as outfile:\n",
      "    outfile.write(toc.genTOCMarkdownCell('Stage and Commit Changes'))\n",
      "    \n",
      "%load TOCEntry.txt\n"
     ],
     "language": "python",
     "metadata": {},
     "outputs": [],
     "prompt_number": 51
    },
    {
     "cell_type": "markdown",
     "metadata": {},
     "source": [
      "<a id='Stage_and_Commit_Changes'></a>\n",
      "###Stage and Commit Changes"
     ]
    },
    {
     "cell_type": "markdown",
     "metadata": {},
     "source": [
      "Suppose you modified one or more files. Presumably, you issued a _git checkout {file}_ for each first but it's not clear that matters.\n",
      "\n",
      "When you're ready, you issue _git stage {file}_ for each modified file. Next you issue _git commit_ and your local repository is updated. You will be put into a vi session and git expects you to put in a commit message.\n",
      "\n",
      "Finally, you issue _git push https://github.com/upandacross/IPythonTOC.git master_ and the github repository is updated.\n",
      "\n"
     ]
    },
    {
     "cell_type": "code",
     "collapsed": false,
     "input": [],
     "language": "python",
     "metadata": {},
     "outputs": []
    }
   ],
   "metadata": {}
  }
 ]
}