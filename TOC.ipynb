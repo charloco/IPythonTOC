{
 "metadata": {
  "name": "",
  "signature": "sha256:f93b0f652780928ce81aa067b886ef3e19e3b6f83f4ec4ff16fc86bb9df91a52"
 },
 "nbformat": 3,
 "nbformat_minor": 0,
 "worksheets": [
  {
   "cells": [
    {
     "cell_type": "code",
     "collapsed": false,
     "input": [
      "from IPythonTOC import IPythonTOC\n",
      "toc = IPythonTOC()\n"
     ],
     "language": "python",
     "metadata": {},
     "outputs": [],
     "prompt_number": 1
    },
    {
     "cell_type": "code",
     "collapsed": false,
     "input": [
      "# You must have called toc.genTOCMarkdownCell before running this cell so the title has been set in the class\n",
      "toc.genTOCEntry()\n"
     ],
     "language": "python",
     "metadata": {},
     "outputs": [
      {
       "metadata": {},
       "output_type": "pyout",
       "prompt_number": 5,
       "text": [
        "'[Second Entry In Table of Contents](#Second_Entry_In_Table_of_Contents)'"
       ]
      }
     ],
     "prompt_number": 5
    },
    {
     "cell_type": "markdown",
     "metadata": {},
     "source": [
      "#Table of Contents\n",
      "\n",
      "[First Entry In Table of Contents](#First_Entry_In_Table_of_Contents)\n",
      "\n",
      "[Second Entry In Table of Contents](#Second_Entry_In_Table_of_Contents)\n",
      "\n"
     ]
    },
    {
     "cell_type": "markdown",
     "metadata": {},
     "source": [
      "This notebook demonstrates the use of the IPythonTOC class. It was inspired by [Creating a table of contents with internal links in IPython Notebooks and Markdown documents](http://bit.ly/1zge9gE). If you don't know about [nbviewer](http://nbviewer.ipython.org/), you should."
     ]
    },
    {
     "cell_type": "markdown",
     "metadata": {},
     "source": [
      "<a id='First_Entry_In_Table_of_Contents'></a>\n",
      "###First Entry In Table of Contents"
     ]
    },
    {
     "cell_type": "markdown",
     "metadata": {},
     "source": [
      "Be sure to change the cell above to a Markdown cell. Next, run the genTOCEntry cell at the top of the notebook"
     ]
    },
    {
     "cell_type": "markdown",
     "metadata": {},
     "source": [
      "<a id='Second_Entry_In_Table_of_Contents'></a>\n",
      "###Second Entry In Table of Contents"
     ]
    },
    {
     "cell_type": "markdown",
     "metadata": {},
     "source": [
      "One thing I keep forgetting is that clicking a line in the TOC makes the browser jump to that cell. However, the cell we jumped to is not \"selected\" - the TOC is still selected, so a down or up arrow or shift-enter goes back to the TOC cell, not the cell we got from the link. "
     ]
    },
    {
     "cell_type": "markdown",
     "metadata": {},
     "source": [
      "If you don't want to create a disk file for the %load, you can just run toc.genTOCMarkdownCell('your title') and copy the text from the cell output. You'll have to edit the '\\n' to split the lines yourself."
     ]
    },
    {
     "cell_type": "code",
     "collapsed": false,
     "input": [
      "toc.genTOCMarkdownCell('Get Text From Cell Output')\n"
     ],
     "language": "python",
     "metadata": {},
     "outputs": [
      {
       "metadata": {},
       "output_type": "pyout",
       "prompt_number": 7,
       "text": [
        "\"<a id='Get_Text_From_Cell_Output'></a>\\n###Get Text From Cell Output\""
       ]
      }
     ],
     "prompt_number": 7
    },
    {
     "cell_type": "code",
     "collapsed": false,
     "input": [
      "# a. move this cell to preceed the markdown cell you want to index\n",
      "# b. put the title string you want as argument to genTOCMarkdownCell\n",
      "# c. change the loaded cell from a code cell to a markdown cell\n",
      "# d. go to the head of this notebook anrd run the genTOCEntry cell - copy that output and paste into the TOC cell\n",
      "\n",
      "\n",
      "with open('TOCMarkdownCell.txt', 'w') as outfile:\n",
      "    outfile.write(toc.genTOCMarkdownCell('Try it yourself')) #<<< change title!!!\n",
      "%load TOCMarkdownCell.txt\n"
     ],
     "language": "python",
     "metadata": {},
     "outputs": [],
     "prompt_number": 4
    }
   ],
   "metadata": {}
  }
 ]
}