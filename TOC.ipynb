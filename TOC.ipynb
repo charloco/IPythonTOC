{
 "cells": [
  {
   "cell_type": "code",
   "execution_count": 1,
   "metadata": {
    "collapsed": false
   },
   "outputs": [],
   "source": [
    "from IPythonTOC import IPythonTOC\n",
    "toc = IPythonTOC()\n"
   ]
  },
  {
   "cell_type": "code",
   "execution_count": null,
   "metadata": {
    "collapsed": true
   },
   "outputs": [],
   "source": [
    "# DO NOT run this cell yet. It is placed here for use after creating newly indexed sections in this notebook.\n",
    "# You must have called toc.genTOCMarkdownCell before running this cell so the title has been set in the class\n",
    "\n",
    "# So when setting this up, you'll create this cell but not run it. Then you'll create a markdown cell after \n",
    "# this one to contain the Table of Contents as I have already done\n",
    "toc.genTOCEntry()\n"
   ]
  },
  {
   "cell_type": "markdown",
   "metadata": {},
   "source": [
    "<a id='Table_of_Contents'></a>\n",
    "#Table of Contents\n",
    "\n"
   ]
  },
  {
   "cell_type": "markdown",
   "metadata": {},
   "source": [
    "This notebook demonstrates the use of the IPythonTOC class. It was inspired by [Creating a table of contents with internal links in IPython Notebooks and Markdown documents](http://bit.ly/1zge9gE). If you don't know about [nbviewer](http://nbviewer.ipython.org/), you should.\n",
    "\n",
    "The following cell was created by running _toc.genTOCMarkdownCell_('First Entry In Table of Contents') as described"
   ]
  },
  {
   "cell_type": "code",
   "execution_count": 2,
   "metadata": {
    "collapsed": false
   },
   "outputs": [
    {
     "name": "stdout",
     "output_type": "stream",
     "text": [
      "<a id='First_Entry_in_Table_of_Contents'></a>\r\n",
      "###First Entry in Table of Contents"
     ]
    }
   ],
   "source": [
    "# a. move this cell to preceed the markdown cell you want to index\n",
    "# b. put the title string you want as argument to genTOCMarkdownCell\n",
    "# c. change the loaded cell from a code cell to a markdown cell\n",
    "# d. go to the head of this notebook anrd run the genTOCEntry cell - copy that output and paste into the TOC cell\n",
    "\n",
    "\n",
    "with open('TOCMarkdownCell.txt', 'w') as outfile:\n",
    "    outfile.write(toc.genTOCMarkdownCell('First Entry in Table of Contents')) #<<< change title!!!\n",
    "!cat TOCMarkdownCell.txt\n",
    "!rm TOCMarkdownCell.txt\n"
   ]
  },
  {
   "cell_type": "markdown",
   "metadata": {},
   "source": [
    "<a id='First_Entry_in_Table_of_Contents'></a>\n",
    "###First Entry In Table of Contents\n",
    "------------------------------------------------------------------------------------------------------------\n",
    "The text in this markdown cell above the line was pasted from the output of the preceeding genTOCMarkdownCell call.\n",
    "\n",
    "Next, run the genTOCEntry cell (normally go back to the top of the notebook), copy the output and edit the **TOC** cell to add the link."
   ]
  },
  {
   "cell_type": "code",
   "execution_count": 3,
   "metadata": {
    "collapsed": false
   },
   "outputs": [
    {
     "data": {
      "text/plain": [
       "'[First Entry in Table of Contents](#First_Entry_in_Table_of_Contents)'"
      ]
     },
     "execution_count": 3,
     "metadata": {},
     "output_type": "execute_result"
    }
   ],
   "source": [
    "# You have called toc.genTOCMarkdownCell in cell 2 before this cell so the title has been set in the class\n",
    "# run it now.\n",
    "toc.genTOCEntry()\n"
   ]
  },
  {
   "cell_type": "markdown",
   "metadata": {},
   "source": [
    "#Table of Contents\n",
    "\n",
    "\n",
    "The following link was created by copying output from cell 3's output: _toc.genTOCMarkdownCell_('First Entry In Table of Contents')\n",
    "\n",
    "[First Entry in Table of Contents](#First_Entry_in_Table_of_Contents)\n",
    "\n"
   ]
  },
  {
   "cell_type": "markdown",
   "metadata": {},
   "source": [
    "Now I'll create a second entry by changing the text passed to genTOCMarkdownCell"
   ]
  },
  {
   "cell_type": "code",
   "execution_count": 4,
   "metadata": {
    "collapsed": false
   },
   "outputs": [
    {
     "name": "stdout",
     "output_type": "stream",
     "text": [
      "<a id='Second_Entry_in_Table_of_Contents'></a>\r\n",
      "###Second Entry in Table of Contents"
     ]
    }
   ],
   "source": [
    "# This cell was copied or moved to preceed the markdown cell at the beginning of a section you want to index\n",
    "# Put the title string of the new section as argument to genTOCMarkdownCell\n",
    "# Add a markdown cell after this to begin the new section and copy the output of this cell to the markdown cell\n",
    "# Normally, you go to the head of this notebook and run the genTOCEntry cell for output to paste into the TOC\n",
    "# However, I've duplicated this code so you can just proceed through the notebook\n",
    "\n",
    "with open('TOCMarkdownCell.txt', 'w') as outfile:\n",
    "    outfile.write(toc.genTOCMarkdownCell('Second Entry in Table of Contents')) #<<< change title!!!\n",
    "!cat TOCMarkdownCell.txt\n",
    "!rm TOCMarkdownCell.txt\n"
   ]
  },
  {
   "cell_type": "markdown",
   "metadata": {},
   "source": [
    "<a id='Second_Entry_in_Table_of_Contents'></a>\n",
    "###Second Entry in Table of Contents\n",
    "\n",
    "The markdown text above was copied from the output of cell 4.\n",
    "\n",
    "Normally, I'd go to the cell before my **TOC** and execute it. However, I've duplicated that code so you can just proceed through this notebook and see things work."
   ]
  },
  {
   "cell_type": "code",
   "execution_count": 5,
   "metadata": {
    "collapsed": false
   },
   "outputs": [
    {
     "data": {
      "text/plain": [
       "'[Second Entry in Table of Contents](#Second_Entry_in_Table_of_Contents)'"
      ]
     },
     "execution_count": 5,
     "metadata": {},
     "output_type": "execute_result"
    }
   ],
   "source": [
    "# Create a markdown cell after this one to contain the Table of Contents\n",
    "toc.genTOCEntry()\n",
    "\n",
    "# the output of this cell would be copied and added to the TOC Which I've duplicated below"
   ]
  },
  {
   "cell_type": "markdown",
   "metadata": {},
   "source": [
    "#Table of Contents\n",
    "\n",
    "The following link was created by copying output from cell 3 _toc.genTOCMarkdownCell_('First Entry In Table of Contents') as described\n",
    "\n",
    "[First Entry in Table of Contents](#First_Entry_in_Table_of_Contents)\n",
    "\n",
    "The following link was created by copying output from cell 5 _toc.genTOCMarkdownCell_('First Entry In Table of Contents') as described\n",
    "\n",
    "[Second Entry in Table of Contents](#Second_Entry_in_Table_of_Contents)\n",
    "\n"
   ]
  },
  {
   "cell_type": "markdown",
   "metadata": {},
   "source": [
    "Now, the following links are active. You can click on them and navigate:\n",
    "\n",
    "   [Table of Contents](#Table_of_Contents)\n",
    "   \n",
    "   [First Entry in Table of Contents](#First_Entry_in_Table_of_Contents)\n",
    "   \n",
    "   [Second Entry in Table of Contents](#Second_Entry_in_Table_of_Contents)\n",
    "\n",
    "One thing I often forget is that clicking a line in the **TOC** makes the browser jump to that cell but doesn't select it. Whatever cell was active when we clicked on the **TOC** link is still active, so a down or up arrow or shift-enter refers to still active cell, not the cell we got by clicking on the **TOC** link. "
   ]
  },
  {
   "cell_type": "markdown",
   "metadata": {},
   "source": [
    "If you don't want to create a disk file for the cat and rm, you can just run _toc.genTOCMarkdownCell_('your title') and create a link to 'your title' suitable for copying into the **TOC**. However, you'll have to edit the '\\n' to split the lines yourself.\n",
    "\n",
    "OK, now try it yourself:"
   ]
  },
  {
   "cell_type": "code",
   "execution_count": null,
   "metadata": {
    "collapsed": false
   },
   "outputs": [],
   "source": [
    "# %load TOCMarkdownCell.txt\n",
    "<a id='Try_it_yourself'></a>\n",
    "###Try it yourself"
   ]
  },
  {
   "cell_type": "markdown",
   "metadata": {},
   "source": [
    "\n",
    "------------------------------------------------------------------------------\n",
    "This is a markdown cell. Copy output from above cell and paste above the line. \n",
    "\n",
    "next, go to the genTOCEntry() cell near the beginning of this notebook and execute it. The output can be added to the **TOC** at the top.\n"
   ]
  },
  {
   "cell_type": "code",
   "execution_count": null,
   "metadata": {
    "collapsed": true
   },
   "outputs": [],
   "source": []
  }
 ],
 "metadata": {
  "kernelspec": {
   "display_name": "Python 2",
   "language": "python",
   "name": "python2"
  },
  "language_info": {
   "codemirror_mode": {
    "name": "ipython",
    "version": 2
   },
   "file_extension": ".py",
   "mimetype": "text/x-python",
   "name": "python",
   "nbconvert_exporter": "python",
   "pygments_lexer": "ipython2",
   "version": "2.7.6"
  }
 },
 "nbformat": 4,
 "nbformat_minor": 0
}
